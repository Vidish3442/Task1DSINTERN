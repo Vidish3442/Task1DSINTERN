{
 "cells": [
  {
   "cell_type": "code",
   "execution_count": 1,
   "id": "dabff8bc-e5e5-49c2-96c2-0b329c07fe43",
   "metadata": {},
   "outputs": [
    {
     "name": "stdout",
     "output_type": "stream",
     "text": [
      "Original Dataset Shape: (200, 5)\n"
     ]
    }
   ],
   "source": [
    "#Import of libary and csv file using pandas \n",
    "import pandas as pd\n",
    "df = pd.read_csv(\"Data/Mall_Customers.csv\")\n",
    "print(\"Original Dataset Shape:\", df.shape)"
   ]
  },
  {
   "cell_type": "code",
   "execution_count": 3,
   "id": "07fe969b-a2eb-4c3c-9bef-5c5ea358ccb1",
   "metadata": {},
   "outputs": [
    {
     "name": "stdout",
     "output_type": "stream",
     "text": [
      "\n",
      "Initial Data Info:\n",
      "<class 'pandas.core.frame.DataFrame'>\n",
      "RangeIndex: 200 entries, 0 to 199\n",
      "Data columns (total 5 columns):\n",
      " #   Column                  Non-Null Count  Dtype \n",
      "---  ------                  --------------  ----- \n",
      " 0   CustomerID              200 non-null    int64 \n",
      " 1   Gender                  200 non-null    object\n",
      " 2   Age                     200 non-null    int64 \n",
      " 3   Annual Income (k$)      200 non-null    int64 \n",
      " 4   Spending Score (1-100)  200 non-null    int64 \n",
      "dtypes: int64(4), object(1)\n",
      "memory usage: 7.9+ KB\n",
      "None\n",
      "\n",
      "Missing Values:\n",
      " CustomerID                0\n",
      "Gender                    0\n",
      "Age                       0\n",
      "Annual Income (k$)        0\n",
      "Spending Score (1-100)    0\n",
      "dtype: int64\n",
      "\n",
      "After Dropping Missing Values: (200, 5)\n"
     ]
    }
   ],
   "source": [
    "# Initial Info of Dataset\n",
    "print(\"\\nInitial Data Info:\")\n",
    "print(df.info())\n",
    "print(\"\\nMissing Values:\\n\", df.isnull().sum())\n",
    "\n",
    "#Handle Missing Values\n",
    "df = df.dropna()\n",
    "print(\"\\nAfter Dropping Missing Values:\", df.shape)"
   ]
  },
  {
   "cell_type": "code",
   "execution_count": 5,
   "id": "5f3e51fd-7084-4562-b4bd-736fb8f8f429",
   "metadata": {},
   "outputs": [
    {
     "name": "stdout",
     "output_type": "stream",
     "text": [
      "\n",
      "After Removing Duplicates: (200, 5)\n"
     ]
    }
   ],
   "source": [
    "#Remove Duplicate Rows\n",
    "df = df.drop_duplicates()\n",
    "print(\"\\nAfter Removing Duplicates:\", df.shape)"
   ]
  },
  {
   "cell_type": "code",
   "execution_count": 7,
   "id": "d194c043-01b9-4544-a673-66d44764c456",
   "metadata": {},
   "outputs": [
    {
     "name": "stdout",
     "output_type": "stream",
     "text": [
      "After Replacing space to _ in Columns Name\n",
      "   customerid  gender  age  annual_income_(k$)  spending_score_(1-100)\n",
      "0           1    Male   19                  15                      39\n",
      "1           2    Male   21                  15                      81\n",
      "2           3  Female   20                  16                       6\n",
      "3           4  Female   23                  16                      77\n",
      "4           5  Female   31                  17                      40\n"
     ]
    }
   ],
   "source": [
    "#Standardize Column Names\n",
    "df.columns = df.columns.str.lower().str.replace(\" \", \"_\")\n",
    "print(\"After Replacing space to _ in Columns Name\")\n",
    "print(df.head())"
   ]
  },
  {
   "cell_type": "code",
   "execution_count": 9,
   "id": "7bb7b410-4498-4ea2-8f84-c63f291163d4",
   "metadata": {},
   "outputs": [
    {
     "name": "stdout",
     "output_type": "stream",
     "text": [
      "After Standardize Gender Column \n",
      "   customerid  gender  age  annual_income_(k$)  spending_score_(1-100)\n",
      "0           1    Male   19                  15                      39\n",
      "1           2    Male   21                  15                      81\n",
      "2           3  Female   20                  16                       6\n",
      "3           4  Female   23                  16                      77\n",
      "4           5  Female   31                  17                      40\n"
     ]
    }
   ],
   "source": [
    "#Standardize Gender Column (capitalize values)\n",
    "df['gender'] = df['gender'].str.capitalize()\n",
    "print(\"After Standardize Gender Column \")\n",
    "print(df.head())"
   ]
  },
  {
   "cell_type": "code",
   "execution_count": 11,
   "id": "552f7a01-3907-4367-816e-e461864a8124",
   "metadata": {},
   "outputs": [
    {
     "name": "stdout",
     "output_type": "stream",
     "text": [
      "\n",
      "Data Types Before:\n",
      "customerid                 int64\n",
      "gender                    object\n",
      "age                        int64\n",
      "annual_income_(k$)         int64\n",
      "spending_score_(1-100)     int64\n",
      "dtype: object\n",
      "\n",
      "Data Types After:\n",
      "customerid                object\n",
      "gender                    object\n",
      "age                        int64\n",
      "annual_income_(k$)         int64\n",
      "spending_score_(1-100)     int64\n",
      "dtype: object\n"
     ]
    }
   ],
   "source": [
    "#Check Data Types\n",
    "print(\"\\nData Types Before:\")\n",
    "print(df.dtypes)\n",
    "# Convert CustomerID to string (ID type) and Age to integer\n",
    "df['customerid'] = df['customerid'].astype(str)\n",
    "df['age'] = df['age'].astype(int)\n",
    "print(\"\\nData Types After:\")\n",
    "print(df.dtypes)"
   ]
  },
  {
   "cell_type": "code",
   "execution_count": 13,
   "id": "25ec1bf3-4cd9-4882-812e-32b995fc8dcf",
   "metadata": {},
   "outputs": [
    {
     "name": "stdout",
     "output_type": "stream",
     "text": [
      "\n",
      "Final Cleaned Data Info:\n",
      "<class 'pandas.core.frame.DataFrame'>\n",
      "RangeIndex: 200 entries, 0 to 199\n",
      "Data columns (total 5 columns):\n",
      " #   Column                  Non-Null Count  Dtype \n",
      "---  ------                  --------------  ----- \n",
      " 0   customerid              200 non-null    object\n",
      " 1   gender                  200 non-null    object\n",
      " 2   age                     200 non-null    int64 \n",
      " 3   annual_income_(k$)      200 non-null    int64 \n",
      " 4   spending_score_(1-100)  200 non-null    int64 \n",
      "dtypes: int64(3), object(2)\n",
      "memory usage: 7.9+ KB\n",
      "None\n",
      "\n",
      "Cleaned dataset saved as 'cleaned_mall_customers.csv'\n"
     ]
    }
   ],
   "source": [
    "#Final Dataset Info\n",
    "print(\"\\nFinal Cleaned Data Info:\")\n",
    "print(df.info())\n",
    "\n",
    "#Export Cleaned Data for future\n",
    "df.to_csv(\"Data/cleaned_mall_customers.csv\", index=False)\n",
    "print(\"\\nCleaned dataset saved as 'cleaned_mall_customers.csv'\")"
   ]
  }
 ],
 "metadata": {
  "kernelspec": {
   "display_name": "Python [conda env:base] *",
   "language": "python",
   "name": "conda-base-py"
  },
  "language_info": {
   "codemirror_mode": {
    "name": "ipython",
    "version": 3
   },
   "file_extension": ".py",
   "mimetype": "text/x-python",
   "name": "python",
   "nbconvert_exporter": "python",
   "pygments_lexer": "ipython3",
   "version": "3.12.7"
  }
 },
 "nbformat": 4,
 "nbformat_minor": 5
}
